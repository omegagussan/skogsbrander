{
 "cells": [
  {
   "cell_type": "code",
   "execution_count": 17,
   "metadata": {},
   "outputs": [],
   "source": [
    "import json\n",
    "import shutil\n",
    "import os\n",
    "import requests\n",
    "import time"
   ]
  },
  {
   "cell_type": "code",
   "execution_count": 18,
   "metadata": {},
   "outputs": [],
   "source": [
    "def get_json_data(lat, lng):\n",
    "    api_url = 'https://mtf-sat.synvinkel.org/timeseries?apikey=biscayabukten&fbclid=IwAR0woGRqFpiBML0h03XRs9Uz5ag3Vw834foaHnW4oCyRbRxjVyU8mmKOILE'\n",
    "    #always whole 2018\n",
    "    paramters  =' &lng=' + str(lng) + '&lat=' + str(lat) + '8&startDate=2018-01-01&endDate=2018-12-30'\n",
    "    req = requests.get(api_url + paramters)\n",
    "    if req.status_code == 200:\n",
    "        req_data = req.content\n",
    "        return json.loads(req_data)\n",
    "    else:\n",
    "        return None"
   ]
  },
  {
   "cell_type": "code",
   "execution_count": 22,
   "metadata": {},
   "outputs": [],
   "source": [
    "json_data = get_json_data(lng=106.18,lat=54.00)"
   ]
  },
  {
   "cell_type": "code",
   "execution_count": 23,
   "metadata": {},
   "outputs": [],
   "source": [
    "def toString(long, lat):\n",
    "    return \"lng:\" + long + \"lat:\" + lat\n",
    "\n",
    "def download_files(rel_dir, json_req):\n",
    "    try:\n",
    "        if not os.path.exists(rel_dir):\n",
    "            os.makedirs(rel_dir)\n",
    "\n",
    "        name = toString(json_data[\"location\"][\"lng\"], json_data[\"location\"][\"lat\"]) + \"/\"\n",
    "\n",
    "        if os.path.exists(rel_dir + name):\n",
    "            print(\"you've already downloaded \" + name + \". If you want to redo this, delete this directory.\")\n",
    "            return\n",
    "        else:\n",
    "            os.makedirs(rel_dir + name)\n",
    "\n",
    "        print(\"downloading \" + str(len(json_data[\"images\"])) + \" into folder \" + name)\n",
    "        t = time.time()\n",
    "        for idx, image in enumerate(json_data[\"images\"]):\n",
    "            if idx % 10 == 0:\n",
    "                print(str(idx) +  \" images downloaded\")\n",
    "            response = requests.get(image[\"url\"], stream=True)\n",
    "            file_name = rel_dir + name + \"time:\" + str(image[\"time\"]) + \".png\"\n",
    "            with open(file_name, 'wb') as out_file:\n",
    "                shutil.copyfileobj(response.raw, out_file)\n",
    "            del response\n",
    "        print(\"done. took \" + str(time.time() - t) + \" time\")\n",
    "    except:\n",
    "        print(\"something went wrong. removing \" + name)\n",
    "        shutil.rmtree(rel_dir + name)"
   ]
  },
  {
   "cell_type": "code",
   "execution_count": 24,
   "metadata": {
    "scrolled": true
   },
   "outputs": [
    {
     "name": "stdout",
     "output_type": "stream",
     "text": [
      "downloading 81 into folder lng:106.18lat:54.08/\n",
      "0 images downloaded\n",
      "10 images downloaded\n",
      "something went wrong. removing lng:106.18lat:54.08/\n"
     ]
    }
   ],
   "source": [
    "download_files(\"./downloads/\", json_data)"
   ]
  },
  {
   "cell_type": "markdown",
   "metadata": {},
   "source": [
    "## Generate versioncontrollable artifacts"
   ]
  },
  {
   "cell_type": "code",
   "execution_count": 25,
   "metadata": {},
   "outputs": [
    {
     "name": "stdout",
     "output_type": "stream",
     "text": [
      "[NbConvertApp] Converting notebook get_data_scripts.ipynb to python\n",
      "[NbConvertApp] Writing 2192 bytes to ./target/get_data_scripts.py\n"
     ]
    }
   ],
   "source": [
    "!jupyter nbconvert --output-dir='./target' --to python get_data_scripts.ipynb"
   ]
  },
  {
   "cell_type": "code",
   "execution_count": 26,
   "metadata": {},
   "outputs": [
    {
     "name": "stdout",
     "output_type": "stream",
     "text": [
      "[NbConvertApp] Converting notebook get_data_scripts.ipynb to html\n",
      "[NbConvertApp] Writing 261830 bytes to ./target/get_data_scripts.html\n"
     ]
    }
   ],
   "source": [
    "!jupyter nbconvert --output-dir='./target' --to html get_data_scripts.ipynb"
   ]
  },
  {
   "cell_type": "code",
   "execution_count": null,
   "metadata": {},
   "outputs": [],
   "source": []
  }
 ],
 "metadata": {
  "kernelspec": {
   "display_name": "Python 3",
   "language": "python",
   "name": "python3"
  },
  "language_info": {
   "codemirror_mode": {
    "name": "ipython",
    "version": 3
   },
   "file_extension": ".py",
   "mimetype": "text/x-python",
   "name": "python",
   "nbconvert_exporter": "python",
   "pygments_lexer": "ipython3",
   "version": "3.6.5"
  }
 },
 "nbformat": 4,
 "nbformat_minor": 2
}
